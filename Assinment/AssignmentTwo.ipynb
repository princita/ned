{
 "cells": [
  {
   "cell_type": "code",
   "execution_count": 1,
   "id": "195ec0b3",
   "metadata": {},
   "outputs": [
    {
     "name": "stdout",
     "output_type": "stream",
     "text": [
      "My name is Waqar Saleem, I am 34 years old, and I live in House no-217 Islamabad\n"
     ]
    }
   ],
   "source": [
    "name =  \"Waqar Saleem\"\n",
    "age = 34\n",
    "country = \"House no-217 Islamabad\"\n",
    "Display = \"My name is \"+ name +\", I am \"+str(age)+ \" years old, and I live in \"+country\n",
    "print (Display)\n"
   ]
  },
  {
   "cell_type": "code",
   "execution_count": 2,
   "id": "09d02c9e",
   "metadata": {},
   "outputs": [
    {
     "name": "stdout",
     "output_type": "stream",
     "text": [
      "I bought 3 book(s) at 100 each, for a total of $300\n"
     ]
    }
   ],
   "source": [
    "item = \"book\"\n",
    "price = 100\n",
    "quantity = 3\n",
    "total_cost = price * quantity\n",
    "Display = \"I bought {} {}(s) at {} each, for a total of ${}\".format(quantity,item,price,total_cost)\n",
    "print(Display)\n"
   ]
  },
  {
   "cell_type": "code",
   "execution_count": 4,
   "id": "7f5c7ee3",
   "metadata": {},
   "outputs": [
    {
     "name": "stdout",
     "output_type": "stream",
     "text": [
      "The temperature in Islamabad is 30C°C\n"
     ]
    }
   ],
   "source": [
    "city = \"Islamabad\"\n",
    "temperature = \"30C\"\n",
    "Display = f\"The temperature in {city} is {temperature}°C\"\n",
    "print (Display)"
   ]
  },
  {
   "cell_type": "code",
   "execution_count": 5,
   "id": "f6c4af8d",
   "metadata": {},
   "outputs": [
    {
     "name": "stdout",
     "output_type": "stream",
     "text": [
      "My name is Waqar Saleem. I am 34 years old.\n"
     ]
    }
   ],
   "source": [
    "first_name = \"Waqar\"\n",
    "last_name = \"Saleem\"\n",
    "birth_year = \"1989\" \n",
    "current_year = \"2023\"\n",
    "age = int(current_year) - int(birth_year)\n",
    "Display = \"My name is %s %s. I am %d years old.\"%(first_name,last_name,age)\n",
    "print(Display)"
   ]
  }
 ],
 "metadata": {
  "kernelspec": {
   "display_name": "Python 3 (ipykernel)",
   "language": "python",
   "name": "python3"
  },
  "language_info": {
   "codemirror_mode": {
    "name": "ipython",
    "version": 3
   },
   "file_extension": ".py",
   "mimetype": "text/x-python",
   "name": "python",
   "nbconvert_exporter": "python",
   "pygments_lexer": "ipython3",
   "version": "3.10.9"
  }
 },
 "nbformat": 4,
 "nbformat_minor": 5
}
