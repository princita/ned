{
 "cells": [
  {
   "cell_type": "markdown",
   "id": "dbeb14e1",
   "metadata": {
    "id": "dbeb14e1"
   },
   "source": [
    "---\n",
    "\n",
    "## Advanced Regular Expression Assignments\n",
    "\n",
    "### Assignment 1: Extracting Phone Numbers\n",
    "\n",
    "**Raw Text:**\n",
    "Extract all valid Pakistani phone numbers from a given text.\n",
    "\n",
    "**Example:**\n",
    "```\n",
    "Text: Please contact me at 0301-1234567 or 042-35678901 for further details.\n",
    "```\n",
    "\n"
   ]
  },
  {
   "cell_type": "code",
   "execution_count": 2,
   "id": "b830b03e",
   "metadata": {
    "id": "b830b03e"
   },
   "outputs": [
    {
     "data": {
      "text/plain": [
       "['0301-1234567', '042-35678901']"
      ]
     },
     "execution_count": 2,
     "metadata": {},
     "output_type": "execute_result"
    }
   ],
   "source": [
    "import re\n",
    "Text = \"Please contact me at 0301-1234567 or 042-35678901 for further details.\"\n",
    "pattren = r'0\\d{2,3}-\\d{7,8}'\n",
    "findPhoneNum = re.findall(pattren,Text)\n",
    "findPhoneNum"
   ]
  },
  {
   "cell_type": "markdown",
   "id": "dd34fb2f",
   "metadata": {
    "id": "dd34fb2f"
   },
   "source": [
    "### Assignment 2: Validating Email Addresses\n",
    "\n",
    "**Raw Text:**\n",
    "Validate email addresses according to Pakistani domain extensions (.pk).\n",
    "\n",
    "**Example:**\n",
    "```\n",
    "Text: Contact us at info@example.com or support@domain.pk for assistance.\n",
    "```\n",
    "\n"
   ]
  },
  {
   "cell_type": "code",
   "execution_count": 7,
   "id": "64cf6883",
   "metadata": {
    "id": "64cf6883"
   },
   "outputs": [
    {
     "data": {
      "text/plain": [
       "['info@example.com', 'support@domain.pk']"
      ]
     },
     "execution_count": 7,
     "metadata": {},
     "output_type": "execute_result"
    }
   ],
   "source": [
    "Text  = \"Contact us at info@example.com or support@domain.pk for assistance.\"\n",
    "pattren = '[\\w.]+\\@[\\w.]+'\n",
    "findEmail = re.findall(pattren,Text)\n",
    "findEmail\n"
   ]
  },
  {
   "cell_type": "markdown",
   "id": "0bd2f6f3",
   "metadata": {
    "id": "0bd2f6f3"
   },
   "source": [
    "### Assignment 3: Extracting CNIC Numbers\n",
    "\n",
    "**Raw Text:**\n",
    "Extract all Pakistani CNIC (Computerized National Identity Card) numbers from a given text.\n",
    "\n",
    "**Example:**\n",
    "```\n",
    "Text: My CNIC is 12345-6789012-3 and another one is 34567-8901234-5.\n",
    "```\n"
   ]
  },
  {
   "cell_type": "code",
   "execution_count": 9,
   "id": "b825834e",
   "metadata": {
    "id": "b825834e"
   },
   "outputs": [
    {
     "data": {
      "text/plain": [
       "['12345-6789012-3', '34567-8901234-5']"
      ]
     },
     "execution_count": 9,
     "metadata": {},
     "output_type": "execute_result"
    }
   ],
   "source": [
    "Text = \"My CNIC is 12345-6789012-3 and another one is 34567-8901234-5.\"\n",
    "pattren = r'\\d{5}-\\d{7}-\\d{1}'\n",
    "findCNIC = re.findall(pattren,Text)\n",
    "findCNIC"
   ]
  },
  {
   "cell_type": "markdown",
   "id": "f21a0a2f",
   "metadata": {
    "id": "f21a0a2f"
   },
   "source": [
    "\n",
    "### Assignment 4: Identifying Urdu Words\n",
    "\n",
    "**Raw Text:**\n",
    "Identify and extract Urdu words from a mixed English-Urdu text.\n",
    "\n",
    "**Example:**\n",
    "```\n",
    "Text: یہ sentence میں کچھ English words بھی ہیں۔\n",
    "```\n",
    "\n"
   ]
  },
  {
   "cell_type": "code",
   "execution_count": 11,
   "id": "b4263cfb",
   "metadata": {
    "id": "b4263cfb"
   },
   "outputs": [
    {
     "data": {
      "text/plain": [
       "['یہ', 'میں', 'کچھ', 'بھی', 'ہیں۔']"
      ]
     },
     "execution_count": 11,
     "metadata": {},
     "output_type": "execute_result"
    }
   ],
   "source": [
    "Text = \"یہ sentence میں کچھ English words بھی ہیں۔\"\n",
    "pattren =re.findall(r'[\\u0600-\\u06ff]+',Text)\n",
    "pattren\n",
    "\n"
   ]
  },
  {
   "cell_type": "markdown",
   "id": "421405e8",
   "metadata": {
    "id": "421405e8"
   },
   "source": [
    "### Assignment 5: Finding Dates\n",
    "\n",
    "**Raw Text:**\n",
    "Find and extract dates in the format DD-MM-YYYY from a given text.\n",
    "\n",
    "**Example:**\n",
    "```\n",
    "Text: The event will take place on 15-08-2023 and 23-09-2023.\n",
    "```\n",
    "\n"
   ]
  },
  {
   "cell_type": "code",
   "execution_count": 12,
   "id": "c2f9d8bf",
   "metadata": {
    "id": "c2f9d8bf"
   },
   "outputs": [
    {
     "data": {
      "text/plain": [
       "['15-08-2023', '23-09-2023']"
      ]
     },
     "execution_count": 12,
     "metadata": {},
     "output_type": "execute_result"
    }
   ],
   "source": [
    "Text = \"The event will take place on 15-08-2023 and 23-09-2023\"\n",
    "pattren = r'\\d{2}-\\d{2}-\\d{4}'\n",
    "findDates = re.findall(pattren,Text)\n",
    "findDates"
   ]
  },
  {
   "cell_type": "markdown",
   "id": "6b817815",
   "metadata": {
    "id": "6b817815"
   },
   "source": [
    "### Assignment 6: Extracting URLs\n",
    "\n",
    "**Raw Text:**\n",
    "Extract all URLs from a text that belong to Pakistani domains.\n",
    "\n",
    "**Example:**\n",
    "```\n",
    "Text: Visit http://www.example.pk or https://website.com.pk for more information.\n",
    "```\n",
    "\n"
   ]
  },
  {
   "cell_type": "code",
   "execution_count": 19,
   "id": "c2ba10ac",
   "metadata": {
    "id": "c2ba10ac"
   },
   "outputs": [
    {
     "data": {
      "text/plain": [
       "['http://www.example.pk or https://website.com.pk']"
      ]
     },
     "execution_count": 19,
     "metadata": {},
     "output_type": "execute_result"
    }
   ],
   "source": [
    "Text    = \"Visit http://www.example.pk or https://website.com.pk for more information.\"\n",
    "pattren = \"\\w{4,5}://\\w.*.\\w.*.pk\"\n",
    "findUrlPak = re.findall(pattren,Text)\n",
    "findUrlPak"
   ]
  },
  {
   "cell_type": "markdown",
   "id": "7ff1dc07",
   "metadata": {
    "id": "7ff1dc07"
   },
   "source": [
    "### Assignment 7: Analyzing Currency\n",
    "\n",
    "**Raw Text:**\n",
    "Extract and analyze currency amounts in Pakistani Rupees (PKR) from a given text.\n",
    "\n",
    "**Example:**\n",
    "```\n",
    "Text: The product costs PKR 1500, while the deluxe version is priced at Rs. 2500.\n",
    "```\n",
    "\n"
   ]
  },
  {
   "cell_type": "code",
   "execution_count": 23,
   "id": "28769652",
   "metadata": {
    "id": "28769652"
   },
   "outputs": [
    {
     "data": {
      "text/plain": [
       "['1500', '2500']"
      ]
     },
     "execution_count": 23,
     "metadata": {},
     "output_type": "execute_result"
    }
   ],
   "source": [
    "Text = \"The product costs PKR 1500, while the deluxe version is priced at Rs. 2500.\"\n",
    "pattren = \"\\d{3,4}\"\n",
    "findPakCur = re.findall(pattren,Text)\n",
    "findPakCur\n"
   ]
  },
  {
   "cell_type": "markdown",
   "id": "651c8b5d",
   "metadata": {
    "id": "651c8b5d"
   },
   "source": [
    "### Assignment 8: Removing Punctuation\n",
    "\n",
    "**Raw Text:**\n",
    "Remove all punctuation marks from a text while preserving Urdu characters.\n",
    "\n",
    "**Example:**\n",
    "```\n",
    "Text: کیا! آپ, یہاں؟\n",
    "```\n",
    "\n"
   ]
  },
  {
   "cell_type": "code",
   "execution_count": 24,
   "id": "96350bf0",
   "metadata": {
    "id": "96350bf0"
   },
   "outputs": [
    {
     "name": "stdout",
     "output_type": "stream",
     "text": [
      "The string after punctuation filter : کیا آپ یہاں\n"
     ]
    }
   ],
   "source": [
    "Text = \"کیا! آپ, یہاں؟\"\n",
    "pattren = r'[^\\w\\s]'\n",
    "res = re.sub(pattren, '', Text)\n",
    " \n",
    "# printing result\n",
    "print(\"The string after punctuation filter : \" + res)\n"
   ]
  },
  {
   "cell_type": "markdown",
   "id": "8cc27684",
   "metadata": {
    "id": "8cc27684"
   },
   "source": [
    "### Assignment 9: Extracting City Names\n",
    "\n",
    "**Raw Text:**\n",
    "Extract names of Pakistani cities from a given text.\n",
    "\n",
    "**Example:**\n",
    "```\n",
    "Text: Lahore, Karachi, Islamabad, and Peshawar are major cities of Pakistan.\n",
    "```\n"
   ]
  },
  {
   "cell_type": "code",
   "execution_count": 34,
   "id": "a81035ed",
   "metadata": {
    "id": "a81035ed"
   },
   "outputs": [
    {
     "name": "stdout",
     "output_type": "stream",
     "text": [
      "[('Lahore, Karachi, Islamabad,', 'Peshawar')]\n"
     ]
    }
   ],
   "source": [
    "Text=  \"\"\"Lahore, Karachi, Islamabad, and Peshawar are major cities of Pakistan.\"\"\"\n",
    "pattern = r'(\\b.+,).+(\\bP.+ar\\b)'\n",
    "\n",
    "print(re.findall(pattern,Text,re.MULTILINE))"
   ]
  },
  {
   "cell_type": "markdown",
   "id": "219b6c4c",
   "metadata": {
    "id": "219b6c4c"
   },
   "source": [
    "\n",
    "### Assignment 10: Analyzing Vehicle Numbers\n",
    "\n",
    "**Raw Text:**\n",
    "Identify and extract Pakistani vehicle registration numbers (e.g., ABC-123) from a text.\n",
    "\n",
    "**Example:**\n",
    "```\n",
    "Text: I saw a car with the number plate LEA-567 near the market.\n",
    "```\n",
    "\n"
   ]
  },
  {
   "cell_type": "code",
   "execution_count": 26,
   "id": "33e1e5ba",
   "metadata": {
    "id": "33e1e5ba"
   },
   "outputs": [
    {
     "data": {
      "text/plain": [
       "['LEA-567']"
      ]
     },
     "execution_count": 26,
     "metadata": {},
     "output_type": "execute_result"
    }
   ],
   "source": [
    "Text=\"I saw a car with the number plate LEA-567 near the market.\"\n",
    "pattren = \"\\w{3,4}-\\d{3,4}\"\n",
    "findPakNum = re.findall(pattren,Text)\n",
    "findPakNum\n"
   ]
  },
  {
   "cell_type": "code",
   "execution_count": null,
   "id": "090be1c3",
   "metadata": {},
   "outputs": [],
   "source": []
  }
 ],
 "metadata": {
  "colab": {
   "provenance": []
  },
  "kernelspec": {
   "display_name": "Python 3 (ipykernel)",
   "language": "python",
   "name": "python3"
  },
  "language_info": {
   "codemirror_mode": {
    "name": "ipython",
    "version": 3
   },
   "file_extension": ".py",
   "mimetype": "text/x-python",
   "name": "python",
   "nbconvert_exporter": "python",
   "pygments_lexer": "ipython3",
   "version": "3.11.4"
  }
 },
 "nbformat": 4,
 "nbformat_minor": 5
}
